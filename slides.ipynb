{
 "cells": [
  {
   "cell_type": "markdown",
   "id": "9ba5eb01-df70-4045-9daa-d8240216f094",
   "metadata": {
    "editable": true,
    "slideshow": {
     "slide_type": "slide"
    },
    "tags": []
   },
   "source": [
    "## What is testing?"
   ]
  },
  {
   "cell_type": "markdown",
   "id": "4e783ffc-5c2b-4b88-9373-ee789e734cd7",
   "metadata": {
    "editable": true,
    "slideshow": {
     "slide_type": "slide"
    },
    "tags": []
   },
   "source": [
    "## What is testing?\n",
    "\n",
    "* Defines expected behavior\n",
    "* Checks common cases\n",
    "* Validation of bug fixes"
   ]
  },
  {
   "cell_type": "markdown",
   "id": "05af7293-4476-4e6e-92bd-1652e24f8a89",
   "metadata": {
    "editable": true,
    "slideshow": {
     "slide_type": "slide"
    },
    "tags": []
   },
   "source": [
    "## Why do we test software?"
   ]
  },
  {
   "cell_type": "markdown",
   "id": "4c635ef2-2afe-46f9-ad06-e61d541a0dc8",
   "metadata": {
    "editable": true,
    "slideshow": {
     "slide_type": "slide"
    },
    "tags": []
   },
   "source": [
    "## Why do we test software?\n",
    "\n",
    "* Improves our confidence...\n",
    "  * ...in code correctnesses\n",
    "  * ...in our results\n",
    "  * ...being able to make future changes"
   ]
  },
  {
   "cell_type": "markdown",
   "id": "95505920-4da2-4202-bcd8-013d1192f728",
   "metadata": {
    "editable": true,
    "slideshow": {
     "slide_type": "slide"
    },
    "tags": []
   },
   "source": [
    "## Where is testing used?"
   ]
  },
  {
   "cell_type": "markdown",
   "id": "282eb14f-1909-49e5-a414-8fc521247503",
   "metadata": {
    "editable": true,
    "slideshow": {
     "slide_type": "slide"
    },
    "tags": []
   },
   "source": [
    "## Where is testing used?\n",
    "\n",
    "| Testing     | Description                       |\n",
    "|-------------|-----------------------------------|\n",
    "| Unit        | Standalone Functions              |\n",
    "| Integration | Validate code chunks interactions |\n",
    "| Functional  | Check software is to spec         |\n",
    "| System      | Testing the software in entirety  |\n",
    "| End-to-end  | Production environment testing    |"
   ]
  }
 ],
 "metadata": {
  "kernelspec": {
   "display_name": "Python 3 (ipykernel)",
   "language": "python",
   "name": "python3"
  },
  "language_info": {
   "codemirror_mode": {
    "name": "ipython",
    "version": 3
   },
   "file_extension": ".py",
   "mimetype": "text/x-python",
   "name": "python",
   "nbconvert_exporter": "python",
   "pygments_lexer": "ipython3",
   "version": "3.13.5"
  }
 },
 "nbformat": 4,
 "nbformat_minor": 5
}
