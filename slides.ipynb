{
 "cells": [
  {
   "cell_type": "markdown",
   "id": "9ba5eb01-df70-4045-9daa-d8240216f094",
   "metadata": {
    "editable": true,
    "slideshow": {
     "slide_type": "slide"
    },
    "tags": []
   },
   "source": [
    "## What is testing?"
   ]
  },
  {
   "cell_type": "markdown",
   "id": "4e783ffc-5c2b-4b88-9373-ee789e734cd7",
   "metadata": {
    "editable": true,
    "slideshow": {
     "slide_type": "slide"
    },
    "tags": []
   },
   "source": [
    "## What is testing?\n",
    "\n",
    "* Defines expected behavior\n",
    "* Checks common cases\n",
    "* Validation of bug fixes"
   ]
  }
 ],
 "metadata": {
  "kernelspec": {
   "display_name": "Python 3 (ipykernel)",
   "language": "python",
   "name": "python3"
  },
  "language_info": {
   "codemirror_mode": {
    "name": "ipython",
    "version": 3
   },
   "file_extension": ".py",
   "mimetype": "text/x-python",
   "name": "python",
   "nbconvert_exporter": "python",
   "pygments_lexer": "ipython3",
   "version": "3.13.5"
  }
 },
 "nbformat": 4,
 "nbformat_minor": 5
}
