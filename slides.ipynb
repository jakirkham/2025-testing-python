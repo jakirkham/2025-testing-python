{
 "cells": [
  {
   "cell_type": "markdown",
   "id": "9ba5eb01-df70-4045-9daa-d8240216f094",
   "metadata": {
    "editable": true,
    "slideshow": {
     "slide_type": "slide"
    },
    "tags": []
   },
   "source": [
    "## What is testing?"
   ]
  },
  {
   "cell_type": "markdown",
   "id": "4e783ffc-5c2b-4b88-9373-ee789e734cd7",
   "metadata": {
    "editable": true,
    "slideshow": {
     "slide_type": "fragment"
    },
    "tags": []
   },
   "source": [
    "* Defines expected behavior\n",
    "* Checks common cases\n",
    "* Validation of bug fixes"
   ]
  },
  {
   "cell_type": "markdown",
   "id": "05af7293-4476-4e6e-92bd-1652e24f8a89",
   "metadata": {
    "editable": true,
    "slideshow": {
     "slide_type": "slide"
    },
    "tags": []
   },
   "source": [
    "## Why do we test software?"
   ]
  },
  {
   "cell_type": "markdown",
   "id": "4c635ef2-2afe-46f9-ad06-e61d541a0dc8",
   "metadata": {
    "editable": true,
    "slideshow": {
     "slide_type": "fragment"
    },
    "tags": []
   },
   "source": [
    "* Improves our confidence...\n",
    "  * ...in code correctnesses\n",
    "  * ...in our results\n",
    "  * ...being able to make future changes"
   ]
  },
  {
   "cell_type": "markdown",
   "id": "95505920-4da2-4202-bcd8-013d1192f728",
   "metadata": {
    "editable": true,
    "slideshow": {
     "slide_type": "slide"
    },
    "tags": []
   },
   "source": [
    "## Where is testing used?"
   ]
  },
  {
   "cell_type": "markdown",
   "id": "282eb14f-1909-49e5-a414-8fc521247503",
   "metadata": {
    "editable": true,
    "slideshow": {
     "slide_type": "fragment"
    },
    "tags": []
   },
   "source": [
    "| Testing     | Description                       |\n",
    "|-------------|-----------------------------------|\n",
    "| Unit        | Standalone Functions              |\n",
    "| Integration | Validate code chunks interactions |\n",
    "| Functional  | Check software is to spec         |\n",
    "| System      | Testing the software in entirety  |\n",
    "| End-to-end  | Production environment testing    |"
   ]
  },
  {
   "cell_type": "markdown",
   "id": "e58e3b88-455a-4727-938a-01926279958b",
   "metadata": {
    "editable": true,
    "slideshow": {
     "slide_type": "slide"
    },
    "tags": []
   },
   "source": [
    "## Example of a test"
   ]
  },
  {
   "cell_type": "markdown",
   "id": "f76dfd6d-7e56-4660-b6f5-5a878cf5de7a",
   "metadata": {
    "editable": true,
    "slideshow": {
     "slide_type": "fragment"
    },
    "tags": []
   },
   "source": [
    "Suppose we have the following code:\n",
    "\n",
    "```python\n",
    "def hypot(a, b):\n",
    "    return (a ** 2 + b ** 2) ** 0.5\n",
    "```"
   ]
  },
  {
   "cell_type": "markdown",
   "id": "0710db33-b2bf-4c68-84ba-f9aaa45ba7c1",
   "metadata": {
    "editable": true,
    "slideshow": {
     "slide_type": "fragment"
    },
    "tags": []
   },
   "source": [
    "We could start by running it for some value we know\n",
    "\n",
    "```python\n",
    "hypot(3, 4)  # Should equal 5\n",
    "```"
   ]
  },
  {
   "cell_type": "markdown",
   "id": "6824744a-5f4d-4a42-9eea-31c75096cd12",
   "metadata": {
    "editable": true,
    "slideshow": {
     "slide_type": "fragment"
    },
    "tags": []
   },
   "source": [
    "Better would be to do this programmatically\n",
    "\n",
    "```python\n",
    "assert hypot(3, 4) == 5\n",
    "```"
   ]
  },
  {
   "cell_type": "markdown",
   "id": "7d382d1e-c26e-4b6b-9867-ddb725d6be99",
   "metadata": {
    "editable": true,
    "slideshow": {
     "slide_type": "fragment"
    },
    "tags": []
   },
   "source": [
    "This could then be put in a test function\n",
    "\n",
    "```python\n",
    "def test_hypot():\n",
    "    assert hypot(3, 4) == 5\n",
    "```"
   ]
  },
  {
   "cell_type": "markdown",
   "id": "2d532b90-f31f-4c11-82ce-cac0602a5171",
   "metadata": {
    "editable": true,
    "slideshow": {
     "slide_type": "fragment"
    },
    "tags": []
   },
   "source": [
    "### Exercise: Write 3 more tests and run them\n",
    "\n",
    "### Bonus: Find a bug in `hypot` and write a test for it"
   ]
  },
  {
   "cell_type": "markdown",
   "id": "b8931a83-51b2-4281-80d7-af8fbbd61a5c",
   "metadata": {
    "editable": true,
    "slideshow": {
     "slide_type": "slide"
    },
    "tags": []
   },
   "source": [
    "## (Continued) Example of a test - validate\n",
    "\n",
    "Original function:\n",
    "\n",
    "```python\n",
    "import numbers\n",
    "\n",
    "def hypot(a: float, b: float):\n",
    "    # Docs?\n",
    "\n",
    "    # TODO: Need to type check inputs\n",
    "    if not (isinstance(a, numbers.Real) and isinstance(b, numbers.Real)):\n",
    "        raise TypeError(\"`a` and `b` must be real\")\n",
    "    if a < 0 or b < 0:\n",
    "        raise ValueError(\"`a` and `b` must be positive\")\n",
    "\n",
    "    return (a ** 2 + b ** 2) ** 0.5\n",
    "```"
   ]
  },
  {
   "cell_type": "markdown",
   "id": "2f4e8a14-0a98-489d-8fd1-08b0eaec7787",
   "metadata": {
    "editable": true,
    "slideshow": {
     "slide_type": "slide"
    },
    "tags": []
   },
   "source": [
    "## (Continued) Example of a test - docs\n",
    "\n",
    "Original function:\n",
    "\n",
    "```python\n",
    "import numbers\n",
    "\n",
    "def hypot(a: float, b: float):\n",
    "    \"\"\"\n",
    "    Compute the hypotenuse of a right triangle.\n",
    "\n",
    "    Args:\n",
    "        a (float): Length of one side next to the right angle\n",
    "        b (float): Length of other side next to the right angle\n",
    "\n",
    "    Returns:\n",
    "        float: Length of the hypotenuse\n",
    "\n",
    "    Examples:\n",
    "        >>> hypot(3, 4)   # <--- Also can be a test\n",
    "        5.0\n",
    "    \"\"\"\n",
    "\n",
    "    # TODO: Need to type check inputs\n",
    "    if not (isinstance(a, numbers.Real) and isinstance(b, numbers.Real)):\n",
    "        raise TypeError(\"`a` and `b` must be real\")\n",
    "    if a < 0 or b < 0:\n",
    "        raise ValueError(\"`a` and `b` must be positive\")\n",
    "\n",
    "    return (a ** 2 + b ** 2) ** 0.5\n",
    "```"
   ]
  }
 ],
 "metadata": {
  "kernelspec": {
   "display_name": "Python 3 (ipykernel)",
   "language": "python",
   "name": "python3"
  },
  "language_info": {
   "codemirror_mode": {
    "name": "ipython",
    "version": 3
   },
   "file_extension": ".py",
   "mimetype": "text/x-python",
   "name": "python",
   "nbconvert_exporter": "python",
   "pygments_lexer": "ipython3",
   "version": "3.13.5"
  }
 },
 "nbformat": 4,
 "nbformat_minor": 5
}
