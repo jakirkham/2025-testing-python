{
 "cells": [
  {
   "cell_type": "markdown",
   "id": "9ba5eb01-df70-4045-9daa-d8240216f094",
   "metadata": {
    "editable": true,
    "slideshow": {
     "slide_type": "slide"
    },
    "tags": []
   },
   "source": [
    "## What is testing?"
   ]
  },
  {
   "cell_type": "markdown",
   "id": "4e783ffc-5c2b-4b88-9373-ee789e734cd7",
   "metadata": {
    "editable": true,
    "slideshow": {
     "slide_type": "fragment"
    },
    "tags": []
   },
   "source": [
    "* Defines expected behavior\n",
    "* Checks common cases\n",
    "* Validation of bug fixes"
   ]
  },
  {
   "cell_type": "markdown",
   "id": "05af7293-4476-4e6e-92bd-1652e24f8a89",
   "metadata": {
    "editable": true,
    "slideshow": {
     "slide_type": "slide"
    },
    "tags": []
   },
   "source": [
    "## Why do we test software?"
   ]
  },
  {
   "cell_type": "markdown",
   "id": "4c635ef2-2afe-46f9-ad06-e61d541a0dc8",
   "metadata": {
    "editable": true,
    "slideshow": {
     "slide_type": "fragment"
    },
    "tags": []
   },
   "source": [
    "* Improves our confidence...\n",
    "  * ...in code correctnesses\n",
    "  * ...in our results\n",
    "  * ...being able to make future changes"
   ]
  },
  {
   "cell_type": "markdown",
   "id": "95505920-4da2-4202-bcd8-013d1192f728",
   "metadata": {
    "editable": true,
    "slideshow": {
     "slide_type": "slide"
    },
    "tags": []
   },
   "source": [
    "## Where is testing used?"
   ]
  },
  {
   "cell_type": "markdown",
   "id": "282eb14f-1909-49e5-a414-8fc521247503",
   "metadata": {
    "editable": true,
    "slideshow": {
     "slide_type": "fragment"
    },
    "tags": []
   },
   "source": [
    "| Testing     | Description                       |\n",
    "|-------------|-----------------------------------|\n",
    "| Unit        | Standalone Functions              |\n",
    "| Integration | Validate code chunks interactions |\n",
    "| Functional  | Check software is to spec         |\n",
    "| System      | Testing the software in entirety  |\n",
    "| End-to-end  | Production environment testing    |"
   ]
  },
  {
   "cell_type": "markdown",
   "id": "e58e3b88-455a-4727-938a-01926279958b",
   "metadata": {
    "editable": true,
    "slideshow": {
     "slide_type": "slide"
    },
    "tags": []
   },
   "source": [
    "## Example of a test"
   ]
  },
  {
   "cell_type": "markdown",
   "id": "f76dfd6d-7e56-4660-b6f5-5a878cf5de7a",
   "metadata": {
    "editable": true,
    "slideshow": {
     "slide_type": "fragment"
    },
    "tags": []
   },
   "source": [
    "Suppose we have the following code:\n",
    "\n",
    "```python\n",
    "def hypot(a, b):\n",
    "    return (a ** 2 + b ** 2) ** 0.5\n",
    "```"
   ]
  },
  {
   "cell_type": "markdown",
   "id": "0710db33-b2bf-4c68-84ba-f9aaa45ba7c1",
   "metadata": {
    "editable": true,
    "slideshow": {
     "slide_type": "fragment"
    },
    "tags": []
   },
   "source": [
    "We could start by running it for some value we know\n",
    "\n",
    "```python\n",
    "hypot(3, 4)  # Should equal 5\n",
    "```"
   ]
  },
  {
   "cell_type": "markdown",
   "id": "6824744a-5f4d-4a42-9eea-31c75096cd12",
   "metadata": {
    "editable": true,
    "slideshow": {
     "slide_type": "fragment"
    },
    "tags": []
   },
   "source": [
    "Better would be to do this programmatically\n",
    "\n",
    "```python\n",
    "assert hypot(3, 4) == 5\n",
    "```"
   ]
  },
  {
   "cell_type": "markdown",
   "id": "7d382d1e-c26e-4b6b-9867-ddb725d6be99",
   "metadata": {
    "editable": true,
    "slideshow": {
     "slide_type": "fragment"
    },
    "tags": []
   },
   "source": [
    "This could then be put in a test function\n",
    "\n",
    "```python\n",
    "def test_hypot():\n",
    "    assert hypot(3, 4) == 5\n",
    "```"
   ]
  },
  {
   "cell_type": "markdown",
   "id": "2d532b90-f31f-4c11-82ce-cac0602a5171",
   "metadata": {
    "editable": true,
    "slideshow": {
     "slide_type": "fragment"
    },
    "tags": []
   },
   "source": [
    "### Exercise: In a notebook, write 3 more tests and run them\n",
    "\n",
    "### Bonus: Find a bug in `hypot` and write a test for it"
   ]
  },
  {
   "cell_type": "markdown",
   "id": "b8931a83-51b2-4281-80d7-af8fbbd61a5c",
   "metadata": {
    "editable": true,
    "slideshow": {
     "slide_type": "slide"
    },
    "tags": []
   },
   "source": [
    "## (Continued) Example of a test - validate\n",
    "\n",
    "Original function:\n",
    "\n",
    "```python\n",
    "import numbers\n",
    "\n",
    "def hypot(a: float, b: float):\n",
    "    # Docs?\n",
    "\n",
    "    # TODO: Need to type check inputs\n",
    "    if not (isinstance(a, numbers.Real) and isinstance(b, numbers.Real)):\n",
    "        raise TypeError(\"`a` and `b` must be real\")\n",
    "    if a < 0 or b < 0:\n",
    "        raise ValueError(\"`a` and `b` must be positive\")\n",
    "\n",
    "    return (a ** 2 + b ** 2) ** 0.5\n",
    "```"
   ]
  },
  {
   "cell_type": "markdown",
   "id": "2f4e8a14-0a98-489d-8fd1-08b0eaec7787",
   "metadata": {
    "editable": true,
    "slideshow": {
     "slide_type": "slide"
    },
    "tags": []
   },
   "source": [
    "## (Continued) Example of a test - docs\n",
    "\n",
    "Original function:\n",
    "\n",
    "```python\n",
    "import numbers\n",
    "\n",
    "def hypot(a: float, b: float):\n",
    "    \"\"\"\n",
    "    Compute the hypotenuse of a right triangle.\n",
    "\n",
    "    Args:\n",
    "        a (float): Length of one side next to the right angle\n",
    "        b (float): Length of other side next to the right angle\n",
    "\n",
    "    Returns:\n",
    "        float: Length of the hypotenuse\n",
    "\n",
    "    Examples:\n",
    "        >>> hypot(3, 4)   # <--- Also can be a test\n",
    "        5\n",
    "    \"\"\"\n",
    "\n",
    "    # TODO: Need to type check inputs\n",
    "    if not (isinstance(a, numbers.Real) and isinstance(b, numbers.Real)):\n",
    "        raise TypeError(\"`a` and `b` must be real\")\n",
    "    if a < 0 or b < 0:\n",
    "        raise ValueError(\"`a` and `b` must be positive\")\n",
    "\n",
    "    return (a ** 2 + b ** 2) ** 0.5\n",
    "```"
   ]
  },
  {
   "cell_type": "markdown",
   "id": "6f63bed1-8a0b-43e3-b488-aa7bf332dd19",
   "metadata": {
    "editable": true,
    "slideshow": {
     "slide_type": "slide"
    },
    "tags": []
   },
   "source": [
    "## Python testing frameworks\n",
    "\n",
    "* `unittest` - Python's builtin testing framework\n",
    "* `doctest` - Python's builtin doc-based testing\n",
    "* `nose` - A third-party testing framework\n",
    "* `pytest` - Most popular testing framework\n",
    "* `hypothesis` - Randomized testing"
   ]
  },
  {
   "cell_type": "markdown",
   "id": "dabfd72c-d417-4925-88d2-2ddbae6c79e4",
   "metadata": {
    "editable": true,
    "slideshow": {
     "slide_type": "slide"
    },
    "tags": []
   },
   "source": [
    "## Example of a test - expanding the test\n",
    "\n",
    "Returning to the test function, we can expand it to cover a few more cases: \n",
    "\n",
    "```python\n",
    "def test_hypot():\n",
    "    assert hypot(3, 4) == 5\n",
    "    assert hypot(5, 12) == 13\n",
    "    assert hypot(7, 24) == 25\n",
    "    assert hypot(9, 40) == 41\n",
    "```"
   ]
  },
  {
   "cell_type": "markdown",
   "id": "b1e6f099-1040-4113-a871-0a5df71b25f6",
   "metadata": {
    "editable": true,
    "slideshow": {
     "slide_type": "slide"
    },
    "tags": []
   },
   "source": [
    "## Example of a test - expanding the test\n",
    "\n",
    "Though as these cases repeat, we could capture them in a `for`-loop and iterate through them.\n",
    "\n",
    "```python\n",
    "def test_hypot():\n",
    "    for a, b, c in [\n",
    "        (3, 4, 5),\n",
    "        (5, 12, 13),\n",
    "        (7, 24, 25),\n",
    "        (9, 40, 41),\n",
    "    ]:\n",
    "        assert hypot(a, b) == c\n",
    "```"
   ]
  },
  {
   "cell_type": "markdown",
   "id": "e61ba3aa-dcb8-4f9e-8b75-19c18be3eba7",
   "metadata": {
    "editable": true,
    "slideshow": {
     "slide_type": "slide"
    },
    "tags": []
   },
   "source": [
    "## Example of a test - expanding the test\n",
    "\n",
    "However a loop will end at the first failure and not run the rest of the tests.\n",
    "\n",
    "Most testing fameworks provide a way to expand this loop into multiple test cases that run independently. So a case can fail and the other cases will still run.\n",
    "\n",
    "```python\n",
    "import pytest\n",
    "\n",
    "@pytest.mark.parametrize(\"a, b, c\", [\n",
    "        (3, 4, 5),\n",
    "        (5, 12, 13),\n",
    "        (7, 24, 25),\n",
    "        (9, 40, 41),\n",
    "    ]\n",
    ")\n",
    "def test_hypot(a, b, c):\n",
    "    assert hypot(a, b) == c\n",
    "\n",
    "```"
   ]
  },
  {
   "cell_type": "markdown",
   "id": "540e2de3-c6db-460a-971c-a8a96a5779de",
   "metadata": {
    "editable": true,
    "slideshow": {
     "slide_type": "slide"
    },
    "tags": []
   },
   "source": [
    "## Example of a test - numerical accuracy\n",
    "\n",
    "```python\n",
    "import pytest\n",
    "\n",
    "@pytest.mark.parametrize(\"a, b, c\", [\n",
    "        (1, 1, 1.414213562),    # <--- Fail due to accuracy\n",
    "        (3, 4, 5),\n",
    "        (5, 12, 13),\n",
    "        (7, 24, 25),\n",
    "        (9, 40, 41),\n",
    "    ]\n",
    ")\n",
    "def test_hypot(a, b, c):\n",
    "    assert hypot(a, b) == c\n",
    "\n",
    "```"
   ]
  },
  {
   "cell_type": "markdown",
   "id": "7d31d754-a0bb-4101-8895-8e79bb259114",
   "metadata": {
    "editable": true,
    "slideshow": {
     "slide_type": "slide"
    },
    "tags": []
   },
   "source": [
    "## Example of a test - numerical accuracy\n",
    "\n",
    "```python\n",
    "import math    # <--- Built in with common math operations\n",
    "import pytest\n",
    "\n",
    "@pytest.mark.parametrize(\"a, b, c\", [\n",
    "        (1, 1, 1.414213562),\n",
    "        (3, 4, 5),\n",
    "        (5, 12, 13),\n",
    "        (7, 24, 25),\n",
    "        (9, 40, 41),\n",
    "    ]\n",
    ")\n",
    "def test_hypot(a, b, c):\n",
    "    assert math.isclose(hypot(a, b), c)    # <--- Switch to `isclose` for float comparisons; `allclose` with NumPy\n",
    "\n",
    "```"
   ]
  },
  {
   "cell_type": "markdown",
   "id": "08cde289-9bd9-49d4-9f72-4ed11ae26445",
   "metadata": {
    "editable": true,
    "slideshow": {
     "slide_type": "slide"
    },
    "tags": []
   },
   "source": [
    "## Python testing layout\n",
    "\n",
    "```python\n",
    "# filename: mygeopy/triangle.py\n",
    "\n",
    "...\n",
    "\n",
    "def hypot(a: float, b: float):\n",
    "    ...\n",
    "\n",
    "...\n",
    "```\n",
    "\n",
    "<hr>\n",
    "\n",
    "```python\n",
    "# filename: tests/test_triangle.py\n",
    "\n",
    "...\n",
    "\n",
    "def test_hypot():\n",
    "    ...\n",
    "\n",
    "...\n",
    "```"
   ]
  },
  {
   "cell_type": "markdown",
   "id": "7a9bdf3b-7a9c-4a87-a476-82f1248ed29f",
   "metadata": {
    "editable": true,
    "slideshow": {
     "slide_type": "fragment"
    },
    "tags": []
   },
   "source": [
    "### Exercise: Put together a project with tests\n",
    "\n",
    "1. Create a repo called `mygeopy` \n",
    "2. Add the modules above with the revised code\n",
    "3. Create a new environment with `pytest`\n",
    "4. Try running `pytest` (repeat with `doctest`)\n",
    "5. Note any errors you encounter\n",
    "\n",
    "**Bonus**: Try to fix any errors"
   ]
  },
  {
   "cell_type": "markdown",
   "id": "349c3b24-5ef6-46f2-94ef-543a9f584d95",
   "metadata": {
    "editable": true,
    "slideshow": {
     "slide_type": "slide"
    },
    "tags": []
   },
   "source": [
    "## Python testing layout - Packaging fixes\n",
    "\n",
    "```python\n",
    "# filename: mygeopy/__init__.py\n",
    "```\n",
    "\n",
    "<hr>\n",
    "\n",
    "```python\n",
    "# filename: mygeopy/triangle.py\n",
    "\n",
    "...\n",
    "\n",
    "def hypot(a: float, b: float):\n",
    "    ...\n",
    "\n",
    "...\n",
    "```\n",
    "\n",
    "<hr>\n",
    "\n",
    "```python\n",
    "# filename: tests/test_triangle.py\n",
    "\n",
    "from mygeopy.triangle import hypot\n",
    "\n",
    "...\n",
    "\n",
    "def test_hypot(a: float, b: float):\n",
    "    ...\n",
    "\n",
    "...\n",
    "```"
   ]
  },
  {
   "cell_type": "markdown",
   "id": "337ed22a-0989-4879-9a83-574dce64e0c1",
   "metadata": {
    "editable": true,
    "slideshow": {
     "slide_type": "fragment"
    },
    "tags": []
   },
   "source": [
    "### Exercise: Retry testing\n",
    "\n",
    "1. Commit and push fixes\n",
    "2. Try running `pytest` (repeat with `doctest`)\n",
    "3. Note any errors you encounter\n",
    "\n",
    "**Bonus**: Try to fix any errors"
   ]
  },
  {
   "cell_type": "markdown",
   "id": "09cd0a3c-4fcb-4883-a652-f49bfddc7d98",
   "metadata": {
    "editable": true,
    "slideshow": {
     "slide_type": "slide"
    },
    "tags": []
   },
   "source": [
    "## Python testing layout - Doctest fix\n",
    "\n",
    "```python\n",
    "    \"\"\"\n",
    "    ...\n",
    "\n",
    "    Examples:\n",
    "        >>> hypot(3, 4)   # <--- Also can be a test\n",
    "        5.0               # <--- Formatting matters\n",
    "    \"\"\"\n",
    "```"
   ]
  },
  {
   "cell_type": "markdown",
   "id": "61e07dcf-9015-4c52-a577-29ca79a8c056",
   "metadata": {
    "editable": true,
    "slideshow": {
     "slide_type": "slide"
    },
    "tags": []
   },
   "source": [
    "## Testing within a package\n",
    "\n",
    "Taking what we know about packaging we can fill out a `pyproject.toml`."
   ]
  },
  {
   "cell_type": "markdown",
   "id": "6d789d0b-8e72-4deb-a5ec-23653c6b2322",
   "metadata": {
    "editable": true,
    "slideshow": {
     "slide_type": "fragment"
    },
    "tags": []
   },
   "source": [
    "```toml\n",
    "[build-system]\n",
    "build-backend = \"setuptools.build_meta\"\n",
    "requires = [\"setuptools\"]\n",
    "\n",
    "[project]\n",
    "name = \"mygeopy\"\n",
    "version = \"0.1.0a0\"\n",
    "description = \"My Python package for working with geometry.\"\n",
    "authors = [{name = \"<Your name>\", email=\"Your_email@domain.com\"}]\n",
    "license = \"MIT\"\n",
    "license-files = [\"LICENSE.txt\"]\n",
    "\n",
    "[project.urls]\n",
    "Homepage = \"<YOUR REPO>\"\n",
    "```"
   ]
  },
  {
   "cell_type": "markdown",
   "id": "10743f72-0e6c-4871-8f89-bcd4083cad95",
   "metadata": {
    "editable": true,
    "slideshow": {
     "slide_type": "fragment"
    },
    "tags": []
   },
   "source": [
    "```toml\n",
    "[project.optional-dependencies]\n",
    "tests = [\"pytest\"]\n",
    "\n",
    "[tool.pytest.ini_options]\n",
    "addopts = \"--doctest-modules\"\n",
    "```"
   ]
  },
  {
   "cell_type": "markdown",
   "id": "d49cab0d-7961-45a7-9521-f2378106a78e",
   "metadata": {
    "editable": true,
    "slideshow": {
     "slide_type": "notes"
    },
    "tags": []
   },
   "source": [
    "These last two sections provide...\n",
    "\n",
    "1. An optional dependency group called `tests`\n",
    "2. Ensure `pytest` always runs our doctests"
   ]
  },
  {
   "cell_type": "markdown",
   "id": "293d7a20-4ef6-4891-bd2b-5f59085f089c",
   "metadata": {
    "editable": true,
    "slideshow": {
     "slide_type": "fragment"
    },
    "tags": []
   },
   "source": [
    "### Exercise: Testing a package\n",
    "\n",
    "1. Fill out your `pyproject.toml`\n",
    "2. Commit and push the changes\n",
    "3. Using our previous environment, try installing the package with this optional dependency group\n",
    "4. Then try running `pytest`\n",
    "\n",
    "**Bonus**: Try to fix any errors"
   ]
  }
 ],
 "metadata": {
  "kernelspec": {
   "display_name": "Python 3 (ipykernel)",
   "language": "python",
   "name": "python3"
  },
  "language_info": {
   "codemirror_mode": {
    "name": "ipython",
    "version": 3
   },
   "file_extension": ".py",
   "mimetype": "text/x-python",
   "name": "python",
   "nbconvert_exporter": "python",
   "pygments_lexer": "ipython3",
   "version": "3.13.5"
  }
 },
 "nbformat": 4,
 "nbformat_minor": 5
}
